{
  "nbformat": 4,
  "nbformat_minor": 0,
  "metadata": {
    "colab": {
      "name": "Untitled2.ipynb",
      "provenance": [],
      "toc_visible": true
    },
    "kernelspec": {
      "name": "python3",
      "display_name": "Python 3"
    },
    "accelerator": "GPU"
  },
  "cells": [
    {
      "cell_type": "code",
      "metadata": {
        "id": "5tbqveBEhE_w"
      },
      "source": [
        "from keras.models import Sequential\n",
        "from keras.layers import Dense, Dropout\n",
        "from sklearn.model_selection import train_test_split\n",
        "import numpy as np\n",
        "import pandas as pd\n",
        "import tensorflow as tf\n",
        "%matplotlib inline\n",
        "import matplotlib as mpl\n",
        "import matplotlib.pyplot as plt\n",
        "np.random.seed(2)\n",
        "\n",
        " "
      ],
      "execution_count": 1,
      "outputs": []
    },
    {
      "cell_type": "code",
      "metadata": {
        "id": "MjF7qJdQjNQ_",
        "outputId": "5c6d165a-d6e5-4a7e-91ab-f5c1c3b65480",
        "colab": {
          "base_uri": "https://localhost:8080/",
          "height": 195
        }
      },
      "source": [
        "data=pd.read_csv(\"/content/drive/My Drive/Internship/prima-indians-diabetes.csv\")\n",
        "data.head()\n",
        "\n"
      ],
      "execution_count": 2,
      "outputs": [
        {
          "output_type": "execute_result",
          "data": {
            "text/html": [
              "<div>\n",
              "<style scoped>\n",
              "    .dataframe tbody tr th:only-of-type {\n",
              "        vertical-align: middle;\n",
              "    }\n",
              "\n",
              "    .dataframe tbody tr th {\n",
              "        vertical-align: top;\n",
              "    }\n",
              "\n",
              "    .dataframe thead th {\n",
              "        text-align: right;\n",
              "    }\n",
              "</style>\n",
              "<table border=\"1\" class=\"dataframe\">\n",
              "  <thead>\n",
              "    <tr style=\"text-align: right;\">\n",
              "      <th></th>\n",
              "      <th>6</th>\n",
              "      <th>148</th>\n",
              "      <th>72</th>\n",
              "      <th>35</th>\n",
              "      <th>0</th>\n",
              "      <th>33.6</th>\n",
              "      <th>0.627</th>\n",
              "      <th>50</th>\n",
              "      <th>1</th>\n",
              "    </tr>\n",
              "  </thead>\n",
              "  <tbody>\n",
              "    <tr>\n",
              "      <th>0</th>\n",
              "      <td>1</td>\n",
              "      <td>85</td>\n",
              "      <td>66</td>\n",
              "      <td>29</td>\n",
              "      <td>0</td>\n",
              "      <td>26.6</td>\n",
              "      <td>0.351</td>\n",
              "      <td>31</td>\n",
              "      <td>0</td>\n",
              "    </tr>\n",
              "    <tr>\n",
              "      <th>1</th>\n",
              "      <td>8</td>\n",
              "      <td>183</td>\n",
              "      <td>64</td>\n",
              "      <td>0</td>\n",
              "      <td>0</td>\n",
              "      <td>23.3</td>\n",
              "      <td>0.672</td>\n",
              "      <td>32</td>\n",
              "      <td>1</td>\n",
              "    </tr>\n",
              "    <tr>\n",
              "      <th>2</th>\n",
              "      <td>1</td>\n",
              "      <td>89</td>\n",
              "      <td>66</td>\n",
              "      <td>23</td>\n",
              "      <td>94</td>\n",
              "      <td>28.1</td>\n",
              "      <td>0.167</td>\n",
              "      <td>21</td>\n",
              "      <td>0</td>\n",
              "    </tr>\n",
              "    <tr>\n",
              "      <th>3</th>\n",
              "      <td>0</td>\n",
              "      <td>137</td>\n",
              "      <td>40</td>\n",
              "      <td>35</td>\n",
              "      <td>168</td>\n",
              "      <td>43.1</td>\n",
              "      <td>2.288</td>\n",
              "      <td>33</td>\n",
              "      <td>1</td>\n",
              "    </tr>\n",
              "    <tr>\n",
              "      <th>4</th>\n",
              "      <td>5</td>\n",
              "      <td>116</td>\n",
              "      <td>74</td>\n",
              "      <td>0</td>\n",
              "      <td>0</td>\n",
              "      <td>25.6</td>\n",
              "      <td>0.201</td>\n",
              "      <td>30</td>\n",
              "      <td>0</td>\n",
              "    </tr>\n",
              "  </tbody>\n",
              "</table>\n",
              "</div>"
            ],
            "text/plain": [
              "   6  148  72  35    0  33.6  0.627  50  1\n",
              "0  1   85  66  29    0  26.6  0.351  31  0\n",
              "1  8  183  64   0    0  23.3  0.672  32  1\n",
              "2  1   89  66  23   94  28.1  0.167  21  0\n",
              "3  0  137  40  35  168  43.1  2.288  33  1\n",
              "4  5  116  74   0    0  25.6  0.201  30  0"
            ]
          },
          "metadata": {
            "tags": []
          },
          "execution_count": 2
        }
      ]
    },
    {
      "cell_type": "code",
      "metadata": {
        "id": "ZnMXC6zWi-tE",
        "outputId": "eb6a2e49-d7d7-47a9-ec4a-4037a1071d86",
        "colab": {
          "base_uri": "https://localhost:8080/",
          "height": 195
        }
      },
      "source": [
        "data.tail()"
      ],
      "execution_count": 3,
      "outputs": [
        {
          "output_type": "execute_result",
          "data": {
            "text/html": [
              "<div>\n",
              "<style scoped>\n",
              "    .dataframe tbody tr th:only-of-type {\n",
              "        vertical-align: middle;\n",
              "    }\n",
              "\n",
              "    .dataframe tbody tr th {\n",
              "        vertical-align: top;\n",
              "    }\n",
              "\n",
              "    .dataframe thead th {\n",
              "        text-align: right;\n",
              "    }\n",
              "</style>\n",
              "<table border=\"1\" class=\"dataframe\">\n",
              "  <thead>\n",
              "    <tr style=\"text-align: right;\">\n",
              "      <th></th>\n",
              "      <th>6</th>\n",
              "      <th>148</th>\n",
              "      <th>72</th>\n",
              "      <th>35</th>\n",
              "      <th>0</th>\n",
              "      <th>33.6</th>\n",
              "      <th>0.627</th>\n",
              "      <th>50</th>\n",
              "      <th>1</th>\n",
              "    </tr>\n",
              "  </thead>\n",
              "  <tbody>\n",
              "    <tr>\n",
              "      <th>762</th>\n",
              "      <td>10</td>\n",
              "      <td>101</td>\n",
              "      <td>76</td>\n",
              "      <td>48</td>\n",
              "      <td>180</td>\n",
              "      <td>32.9</td>\n",
              "      <td>0.171</td>\n",
              "      <td>63</td>\n",
              "      <td>0</td>\n",
              "    </tr>\n",
              "    <tr>\n",
              "      <th>763</th>\n",
              "      <td>2</td>\n",
              "      <td>122</td>\n",
              "      <td>70</td>\n",
              "      <td>27</td>\n",
              "      <td>0</td>\n",
              "      <td>36.8</td>\n",
              "      <td>0.340</td>\n",
              "      <td>27</td>\n",
              "      <td>0</td>\n",
              "    </tr>\n",
              "    <tr>\n",
              "      <th>764</th>\n",
              "      <td>5</td>\n",
              "      <td>121</td>\n",
              "      <td>72</td>\n",
              "      <td>23</td>\n",
              "      <td>112</td>\n",
              "      <td>26.2</td>\n",
              "      <td>0.245</td>\n",
              "      <td>30</td>\n",
              "      <td>0</td>\n",
              "    </tr>\n",
              "    <tr>\n",
              "      <th>765</th>\n",
              "      <td>1</td>\n",
              "      <td>126</td>\n",
              "      <td>60</td>\n",
              "      <td>0</td>\n",
              "      <td>0</td>\n",
              "      <td>30.1</td>\n",
              "      <td>0.349</td>\n",
              "      <td>47</td>\n",
              "      <td>1</td>\n",
              "    </tr>\n",
              "    <tr>\n",
              "      <th>766</th>\n",
              "      <td>1</td>\n",
              "      <td>93</td>\n",
              "      <td>70</td>\n",
              "      <td>31</td>\n",
              "      <td>0</td>\n",
              "      <td>30.4</td>\n",
              "      <td>0.315</td>\n",
              "      <td>23</td>\n",
              "      <td>0</td>\n",
              "    </tr>\n",
              "  </tbody>\n",
              "</table>\n",
              "</div>"
            ],
            "text/plain": [
              "      6  148  72  35    0  33.6  0.627  50  1\n",
              "762  10  101  76  48  180  32.9  0.171  63  0\n",
              "763   2  122  70  27    0  36.8  0.340  27  0\n",
              "764   5  121  72  23  112  26.2  0.245  30  0\n",
              "765   1  126  60   0    0  30.1  0.349  47  1\n",
              "766   1   93  70  31    0  30.4  0.315  23  0"
            ]
          },
          "metadata": {
            "tags": []
          },
          "execution_count": 3
        }
      ]
    },
    {
      "cell_type": "code",
      "metadata": {
        "id": "esHKb74DiMhe",
        "outputId": "52694e71-876d-41c8-d9ea-71ae19e69d14",
        "colab": {
          "base_uri": "https://localhost:8080/",
          "height": 195
        }
      },
      "source": [
        "data = data.rename(index=str, columns={\"6\":\"preg\"})\n",
        "data = data.rename(index=str, columns={\"148\":\"gluco\"})\n",
        "data = data.rename(index=str, columns={\"72\":\"bp\"})\n",
        "data = data.rename(index=str, columns={\"35\":\"stinmm\"})\n",
        "data = data.rename(index=str, columns={\"0\":\"insulin\"})\n",
        "data = data.rename(index=str, columns={\"33.6\":\"mass\"})\n",
        "data =data.rename(index=str, columns={\"0.627\":\"dpf\"})\n",
        "data = data.rename(index=str, columns={\"50\":\"age\"})\n",
        "\n",
        "data = data.rename(index=str, columns={\"1\":\"target\"})\n",
        "data.head()"
      ],
      "execution_count": 4,
      "outputs": [
        {
          "output_type": "execute_result",
          "data": {
            "text/html": [
              "<div>\n",
              "<style scoped>\n",
              "    .dataframe tbody tr th:only-of-type {\n",
              "        vertical-align: middle;\n",
              "    }\n",
              "\n",
              "    .dataframe tbody tr th {\n",
              "        vertical-align: top;\n",
              "    }\n",
              "\n",
              "    .dataframe thead th {\n",
              "        text-align: right;\n",
              "    }\n",
              "</style>\n",
              "<table border=\"1\" class=\"dataframe\">\n",
              "  <thead>\n",
              "    <tr style=\"text-align: right;\">\n",
              "      <th></th>\n",
              "      <th>preg</th>\n",
              "      <th>gluco</th>\n",
              "      <th>bp</th>\n",
              "      <th>stinmm</th>\n",
              "      <th>insulin</th>\n",
              "      <th>mass</th>\n",
              "      <th>dpf</th>\n",
              "      <th>age</th>\n",
              "      <th>target</th>\n",
              "    </tr>\n",
              "  </thead>\n",
              "  <tbody>\n",
              "    <tr>\n",
              "      <th>0</th>\n",
              "      <td>1</td>\n",
              "      <td>85</td>\n",
              "      <td>66</td>\n",
              "      <td>29</td>\n",
              "      <td>0</td>\n",
              "      <td>26.6</td>\n",
              "      <td>0.351</td>\n",
              "      <td>31</td>\n",
              "      <td>0</td>\n",
              "    </tr>\n",
              "    <tr>\n",
              "      <th>1</th>\n",
              "      <td>8</td>\n",
              "      <td>183</td>\n",
              "      <td>64</td>\n",
              "      <td>0</td>\n",
              "      <td>0</td>\n",
              "      <td>23.3</td>\n",
              "      <td>0.672</td>\n",
              "      <td>32</td>\n",
              "      <td>1</td>\n",
              "    </tr>\n",
              "    <tr>\n",
              "      <th>2</th>\n",
              "      <td>1</td>\n",
              "      <td>89</td>\n",
              "      <td>66</td>\n",
              "      <td>23</td>\n",
              "      <td>94</td>\n",
              "      <td>28.1</td>\n",
              "      <td>0.167</td>\n",
              "      <td>21</td>\n",
              "      <td>0</td>\n",
              "    </tr>\n",
              "    <tr>\n",
              "      <th>3</th>\n",
              "      <td>0</td>\n",
              "      <td>137</td>\n",
              "      <td>40</td>\n",
              "      <td>35</td>\n",
              "      <td>168</td>\n",
              "      <td>43.1</td>\n",
              "      <td>2.288</td>\n",
              "      <td>33</td>\n",
              "      <td>1</td>\n",
              "    </tr>\n",
              "    <tr>\n",
              "      <th>4</th>\n",
              "      <td>5</td>\n",
              "      <td>116</td>\n",
              "      <td>74</td>\n",
              "      <td>0</td>\n",
              "      <td>0</td>\n",
              "      <td>25.6</td>\n",
              "      <td>0.201</td>\n",
              "      <td>30</td>\n",
              "      <td>0</td>\n",
              "    </tr>\n",
              "  </tbody>\n",
              "</table>\n",
              "</div>"
            ],
            "text/plain": [
              "   preg  gluco  bp  stinmm  insulin  mass    dpf  age  target\n",
              "0     1     85  66      29        0  26.6  0.351   31       0\n",
              "1     8    183  64       0        0  23.3  0.672   32       1\n",
              "2     1     89  66      23       94  28.1  0.167   21       0\n",
              "3     0    137  40      35      168  43.1  2.288   33       1\n",
              "4     5    116  74       0        0  25.6  0.201   30       0"
            ]
          },
          "metadata": {
            "tags": []
          },
          "execution_count": 4
        }
      ]
    },
    {
      "cell_type": "code",
      "metadata": {
        "id": "AJhKPFEliktW",
        "outputId": "57709b86-f898-487f-d3f3-1fd453a2aa7e",
        "colab": {
          "base_uri": "https://localhost:8080/",
          "height": 284
        }
      },
      "source": [
        "data.describe()"
      ],
      "execution_count": 5,
      "outputs": [
        {
          "output_type": "execute_result",
          "data": {
            "text/html": [
              "<div>\n",
              "<style scoped>\n",
              "    .dataframe tbody tr th:only-of-type {\n",
              "        vertical-align: middle;\n",
              "    }\n",
              "\n",
              "    .dataframe tbody tr th {\n",
              "        vertical-align: top;\n",
              "    }\n",
              "\n",
              "    .dataframe thead th {\n",
              "        text-align: right;\n",
              "    }\n",
              "</style>\n",
              "<table border=\"1\" class=\"dataframe\">\n",
              "  <thead>\n",
              "    <tr style=\"text-align: right;\">\n",
              "      <th></th>\n",
              "      <th>preg</th>\n",
              "      <th>gluco</th>\n",
              "      <th>bp</th>\n",
              "      <th>stinmm</th>\n",
              "      <th>insulin</th>\n",
              "      <th>mass</th>\n",
              "      <th>dpf</th>\n",
              "      <th>age</th>\n",
              "      <th>target</th>\n",
              "    </tr>\n",
              "  </thead>\n",
              "  <tbody>\n",
              "    <tr>\n",
              "      <th>count</th>\n",
              "      <td>767.000000</td>\n",
              "      <td>767.000000</td>\n",
              "      <td>767.000000</td>\n",
              "      <td>767.000000</td>\n",
              "      <td>767.000000</td>\n",
              "      <td>767.000000</td>\n",
              "      <td>767.000000</td>\n",
              "      <td>767.000000</td>\n",
              "      <td>767.000000</td>\n",
              "    </tr>\n",
              "    <tr>\n",
              "      <th>mean</th>\n",
              "      <td>3.842243</td>\n",
              "      <td>120.859192</td>\n",
              "      <td>69.101695</td>\n",
              "      <td>20.517601</td>\n",
              "      <td>79.903520</td>\n",
              "      <td>31.990482</td>\n",
              "      <td>0.471674</td>\n",
              "      <td>33.219035</td>\n",
              "      <td>0.348110</td>\n",
              "    </tr>\n",
              "    <tr>\n",
              "      <th>std</th>\n",
              "      <td>3.370877</td>\n",
              "      <td>31.978468</td>\n",
              "      <td>19.368155</td>\n",
              "      <td>15.954059</td>\n",
              "      <td>115.283105</td>\n",
              "      <td>7.889091</td>\n",
              "      <td>0.331497</td>\n",
              "      <td>11.752296</td>\n",
              "      <td>0.476682</td>\n",
              "    </tr>\n",
              "    <tr>\n",
              "      <th>min</th>\n",
              "      <td>0.000000</td>\n",
              "      <td>0.000000</td>\n",
              "      <td>0.000000</td>\n",
              "      <td>0.000000</td>\n",
              "      <td>0.000000</td>\n",
              "      <td>0.000000</td>\n",
              "      <td>0.078000</td>\n",
              "      <td>21.000000</td>\n",
              "      <td>0.000000</td>\n",
              "    </tr>\n",
              "    <tr>\n",
              "      <th>25%</th>\n",
              "      <td>1.000000</td>\n",
              "      <td>99.000000</td>\n",
              "      <td>62.000000</td>\n",
              "      <td>0.000000</td>\n",
              "      <td>0.000000</td>\n",
              "      <td>27.300000</td>\n",
              "      <td>0.243500</td>\n",
              "      <td>24.000000</td>\n",
              "      <td>0.000000</td>\n",
              "    </tr>\n",
              "    <tr>\n",
              "      <th>50%</th>\n",
              "      <td>3.000000</td>\n",
              "      <td>117.000000</td>\n",
              "      <td>72.000000</td>\n",
              "      <td>23.000000</td>\n",
              "      <td>32.000000</td>\n",
              "      <td>32.000000</td>\n",
              "      <td>0.371000</td>\n",
              "      <td>29.000000</td>\n",
              "      <td>0.000000</td>\n",
              "    </tr>\n",
              "    <tr>\n",
              "      <th>75%</th>\n",
              "      <td>6.000000</td>\n",
              "      <td>140.000000</td>\n",
              "      <td>80.000000</td>\n",
              "      <td>32.000000</td>\n",
              "      <td>127.500000</td>\n",
              "      <td>36.600000</td>\n",
              "      <td>0.625000</td>\n",
              "      <td>41.000000</td>\n",
              "      <td>1.000000</td>\n",
              "    </tr>\n",
              "    <tr>\n",
              "      <th>max</th>\n",
              "      <td>17.000000</td>\n",
              "      <td>199.000000</td>\n",
              "      <td>122.000000</td>\n",
              "      <td>99.000000</td>\n",
              "      <td>846.000000</td>\n",
              "      <td>67.100000</td>\n",
              "      <td>2.420000</td>\n",
              "      <td>81.000000</td>\n",
              "      <td>1.000000</td>\n",
              "    </tr>\n",
              "  </tbody>\n",
              "</table>\n",
              "</div>"
            ],
            "text/plain": [
              "             preg       gluco          bp  ...         dpf         age      target\n",
              "count  767.000000  767.000000  767.000000  ...  767.000000  767.000000  767.000000\n",
              "mean     3.842243  120.859192   69.101695  ...    0.471674   33.219035    0.348110\n",
              "std      3.370877   31.978468   19.368155  ...    0.331497   11.752296    0.476682\n",
              "min      0.000000    0.000000    0.000000  ...    0.078000   21.000000    0.000000\n",
              "25%      1.000000   99.000000   62.000000  ...    0.243500   24.000000    0.000000\n",
              "50%      3.000000  117.000000   72.000000  ...    0.371000   29.000000    0.000000\n",
              "75%      6.000000  140.000000   80.000000  ...    0.625000   41.000000    1.000000\n",
              "max     17.000000  199.000000  122.000000  ...    2.420000   81.000000    1.000000\n",
              "\n",
              "[8 rows x 9 columns]"
            ]
          },
          "metadata": {
            "tags": []
          },
          "execution_count": 5
        }
      ]
    },
    {
      "cell_type": "code",
      "metadata": {
        "id": "0L7hZJ2Rimh-"
      },
      "source": [
        ""
      ],
      "execution_count": 5,
      "outputs": []
    },
    {
      "cell_type": "code",
      "metadata": {
        "id": "4wZNB0gNrkTe"
      },
      "source": [
        ""
      ],
      "execution_count": 6,
      "outputs": []
    },
    {
      "cell_type": "code",
      "metadata": {
        "id": "-wI9y33erwZf",
        "outputId": "fdee307a-0b54-43aa-b438-7821138be8ae",
        "colab": {
          "base_uri": "https://localhost:8080/",
          "height": 889
        }
      },
      "source": [
        "mpl.rcParams['figure.figsize']=25,15\n",
        "plt.matshow(data.corr())\n",
        "plt.yticks(np.arange(data.shape[1]),data.columns)\n",
        "plt.yticks(np.arange(data.shape[1]),data.columns)\n",
        "plt.colorbar()"
      ],
      "execution_count": 7,
      "outputs": [
        {
          "output_type": "execute_result",
          "data": {
            "text/plain": [
              "<matplotlib.colorbar.Colorbar at 0x7f4af7c8f898>"
            ]
          },
          "metadata": {
            "tags": []
          },
          "execution_count": 7
        },
        {
          "output_type": "display_data",
          "data": {
            "image/png": "[encoded data removed]",
            "text/plain": [
              "<Figure size 1080x1080 with 2 Axes>"
            ]
          },
          "metadata": {
            "tags": [],
            "needs_background": "light"
          }
        }
      ]
    },
    {
      "cell_type": "code",
      "metadata": {
        "id": "ifgW1KLXirOw",
        "outputId": "65466ee6-44a0-438b-a887-0207310d813f",
        "colab": {
          "base_uri": "https://localhost:8080/",
          "height": 852
        }
      },
      "source": [
        "data.hist()"
      ],
      "execution_count": 8,
      "outputs": [
        {
          "output_type": "execute_result",
          "data": {
            "text/plain": [
              "array([[<matplotlib.axes._subplots.AxesSubplot object at 0x7f4af76fcf60>,\n",
              "        <matplotlib.axes._subplots.AxesSubplot object at 0x7f4af76c4240>,\n",
              "        <matplotlib.axes._subplots.AxesSubplot object at 0x7f4af76754a8>],\n",
              "       [<matplotlib.axes._subplots.AxesSubplot object at 0x7f4af7625710>,\n",
              "        <matplotlib.axes._subplots.AxesSubplot object at 0x7f4af7656978>,\n",
              "        <matplotlib.axes._subplots.AxesSubplot object at 0x7f4af7606be0>],\n",
              "       [<matplotlib.axes._subplots.AxesSubplot object at 0x7f4af75b7e48>,\n",
              "        <matplotlib.axes._subplots.AxesSubplot object at 0x7f4af75780b8>,\n",
              "        <matplotlib.axes._subplots.AxesSubplot object at 0x7f4af7578128>]],\n",
              "      dtype=object)"
            ]
          },
          "metadata": {
            "tags": []
          },
          "execution_count": 8
        },
        {
          "output_type": "display_data",
          "data": {
            "image/png": "[encoded data removed]",
            "text/plain": [
              "<Figure size 1800x1080 with 9 Axes>"
            ]
          },
          "metadata": {
            "tags": [],
            "needs_background": "light"
          }
        }
      ]
    },
    {
      "cell_type": "code",
      "metadata": {
        "id": "TOqP8uz3i_WQ"
      },
      "source": [
        ""
      ],
      "execution_count": null,
      "outputs": []
    },
    {
      "cell_type": "code",
      "metadata": {
        "id": "c8VmKTY5ubwG",
        "outputId": "1ae29619-e5b0-4ff2-c33e-032205f26a65",
        "colab": {
          "base_uri": "https://localhost:8080/",
          "height": 530
        }
      },
      "source": [
        "mpl.rcParams['figure.figsize']=10,8\n",
        "plt.bar(data['target'].unique(), data['target'].value_counts(), color = ['blue', 'pink'])\n",
        "plt.xticks([0,1])\n",
        "plt.xlabel('Target class')\n",
        "plt.ylabel('count')\n",
        "plt.title('count of our each target class')"
      ],
      "execution_count": 9,
      "outputs": [
        {
          "output_type": "execute_result",
          "data": {
            "text/plain": [
              "Text(0.5, 1.0, 'count of our each target class')"
            ]
          },
          "metadata": {
            "tags": []
          },
          "execution_count": 9
        },
        {
          "output_type": "display_data",
          "data": {
            "image/png": "[encoded data removed]",
            "text/plain": [
              "<Figure size 720x576 with 1 Axes>"
            ]
          },
          "metadata": {
            "tags": [],
            "needs_background": "light"
          }
        }
      ]
    },
    {
      "cell_type": "code",
      "metadata": {
        "id": "dUMVoQFMjLYY"
      },
      "source": [
        "# split into input (X) and output (Y) variables, splitting csv data\n",
        "#X = dataset[:,:,-1]\n",
        "#Y = dataset[:,8]\n",
        "X = data.iloc[:, :-1]\n",
        "Y = data.iloc[:,8]\n"
      ],
      "execution_count": null,
      "outputs": []
    },
    {
      "cell_type": "code",
      "metadata": {
        "id": "tMYf7QYQjUlo",
        "outputId": "8a8e7c2b-cc3a-4ebb-9878-5026f8df39fe",
        "colab": {
          "base_uri": "https://localhost:8080/",
          "height": 402
        }
      },
      "source": [
        "X"
      ],
      "execution_count": null,
      "outputs": [
        {
          "output_type": "execute_result",
          "data": {
            "text/html": [
              "<div>\n",
              "<style scoped>\n",
              "    .dataframe tbody tr th:only-of-type {\n",
              "        vertical-align: middle;\n",
              "    }\n",
              "\n",
              "    .dataframe tbody tr th {\n",
              "        vertical-align: top;\n",
              "    }\n",
              "\n",
              "    .dataframe thead th {\n",
              "        text-align: right;\n",
              "    }\n",
              "</style>\n",
              "<table border=\"1\" class=\"dataframe\">\n",
              "  <thead>\n",
              "    <tr style=\"text-align: right;\">\n",
              "      <th></th>\n",
              "      <th>preg</th>\n",
              "      <th>gluco</th>\n",
              "      <th>bp</th>\n",
              "      <th>stinmm</th>\n",
              "      <th>insulin</th>\n",
              "      <th>mass</th>\n",
              "      <th>dpf</th>\n",
              "      <th>age</th>\n",
              "    </tr>\n",
              "  </thead>\n",
              "  <tbody>\n",
              "    <tr>\n",
              "      <th>0</th>\n",
              "      <td>1</td>\n",
              "      <td>85</td>\n",
              "      <td>66</td>\n",
              "      <td>29</td>\n",
              "      <td>0</td>\n",
              "      <td>26.6</td>\n",
              "      <td>0.351</td>\n",
              "      <td>31</td>\n",
              "    </tr>\n",
              "    <tr>\n",
              "      <th>1</th>\n",
              "      <td>8</td>\n",
              "      <td>183</td>\n",
              "      <td>64</td>\n",
              "      <td>0</td>\n",
              "      <td>0</td>\n",
              "      <td>23.3</td>\n",
              "      <td>0.672</td>\n",
              "      <td>32</td>\n",
              "    </tr>\n",
              "    <tr>\n",
              "      <th>2</th>\n",
              "      <td>1</td>\n",
              "      <td>89</td>\n",
              "      <td>66</td>\n",
              "      <td>23</td>\n",
              "      <td>94</td>\n",
              "      <td>28.1</td>\n",
              "      <td>0.167</td>\n",
              "      <td>21</td>\n",
              "    </tr>\n",
              "    <tr>\n",
              "      <th>3</th>\n",
              "      <td>0</td>\n",
              "      <td>137</td>\n",
              "      <td>40</td>\n",
              "      <td>35</td>\n",
              "      <td>168</td>\n",
              "      <td>43.1</td>\n",
              "      <td>2.288</td>\n",
              "      <td>33</td>\n",
              "    </tr>\n",
              "    <tr>\n",
              "      <th>4</th>\n",
              "      <td>5</td>\n",
              "      <td>116</td>\n",
              "      <td>74</td>\n",
              "      <td>0</td>\n",
              "      <td>0</td>\n",
              "      <td>25.6</td>\n",
              "      <td>0.201</td>\n",
              "      <td>30</td>\n",
              "    </tr>\n",
              "    <tr>\n",
              "      <th>...</th>\n",
              "      <td>...</td>\n",
              "      <td>...</td>\n",
              "      <td>...</td>\n",
              "      <td>...</td>\n",
              "      <td>...</td>\n",
              "      <td>...</td>\n",
              "      <td>...</td>\n",
              "      <td>...</td>\n",
              "    </tr>\n",
              "    <tr>\n",
              "      <th>762</th>\n",
              "      <td>10</td>\n",
              "      <td>101</td>\n",
              "      <td>76</td>\n",
              "      <td>48</td>\n",
              "      <td>180</td>\n",
              "      <td>32.9</td>\n",
              "      <td>0.171</td>\n",
              "      <td>63</td>\n",
              "    </tr>\n",
              "    <tr>\n",
              "      <th>763</th>\n",
              "      <td>2</td>\n",
              "      <td>122</td>\n",
              "      <td>70</td>\n",
              "      <td>27</td>\n",
              "      <td>0</td>\n",
              "      <td>36.8</td>\n",
              "      <td>0.340</td>\n",
              "      <td>27</td>\n",
              "    </tr>\n",
              "    <tr>\n",
              "      <th>764</th>\n",
              "      <td>5</td>\n",
              "      <td>121</td>\n",
              "      <td>72</td>\n",
              "      <td>23</td>\n",
              "      <td>112</td>\n",
              "      <td>26.2</td>\n",
              "      <td>0.245</td>\n",
              "      <td>30</td>\n",
              "    </tr>\n",
              "    <tr>\n",
              "      <th>765</th>\n",
              "      <td>1</td>\n",
              "      <td>126</td>\n",
              "      <td>60</td>\n",
              "      <td>0</td>\n",
              "      <td>0</td>\n",
              "      <td>30.1</td>\n",
              "      <td>0.349</td>\n",
              "      <td>47</td>\n",
              "    </tr>\n",
              "    <tr>\n",
              "      <th>766</th>\n",
              "      <td>1</td>\n",
              "      <td>93</td>\n",
              "      <td>70</td>\n",
              "      <td>31</td>\n",
              "      <td>0</td>\n",
              "      <td>30.4</td>\n",
              "      <td>0.315</td>\n",
              "      <td>23</td>\n",
              "    </tr>\n",
              "  </tbody>\n",
              "</table>\n",
              "<p>767 rows × 8 columns</p>\n",
              "</div>"
            ],
            "text/plain": [
              "     preg  gluco  bp  stinmm  insulin  mass    dpf  age\n",
              "0       1     85  66      29        0  26.6  0.351   31\n",
              "1       8    183  64       0        0  23.3  0.672   32\n",
              "2       1     89  66      23       94  28.1  0.167   21\n",
              "3       0    137  40      35      168  43.1  2.288   33\n",
              "4       5    116  74       0        0  25.6  0.201   30\n",
              "..    ...    ...  ..     ...      ...   ...    ...  ...\n",
              "762    10    101  76      48      180  32.9  0.171   63\n",
              "763     2    122  70      27        0  36.8  0.340   27\n",
              "764     5    121  72      23      112  26.2  0.245   30\n",
              "765     1    126  60       0        0  30.1  0.349   47\n",
              "766     1     93  70      31        0  30.4  0.315   23\n",
              "\n",
              "[767 rows x 8 columns]"
            ]
          },
          "metadata": {
            "tags": []
          },
          "execution_count": 39
        }
      ]
    },
    {
      "cell_type": "code",
      "metadata": {
        "id": "JJKKEI2Hjaus"
      },
      "source": [
        "#split dataset into train test and validation set\n",
        "\n",
        "X_train_full, X_test, y_train_full, y_test = train_test_split(X, Y, random_state=42)\n",
        "X_train, X_valid, y_train, y_valid = train_test_split(X_train_full, y_train_full, random_state=42)"
      ],
      "execution_count": null,
      "outputs": []
    },
    {
      "cell_type": "code",
      "metadata": {
        "id": "FJQZmvJExyqg",
        "outputId": "551a2634-bd34-4d67-d620-ef9b6935fcd3",
        "colab": {
          "base_uri": "https://localhost:8080/",
          "height": 402
        }
      },
      "source": [
        "X_train"
      ],
      "execution_count": null,
      "outputs": [
        {
          "output_type": "execute_result",
          "data": {
            "text/html": [
              "<div>\n",
              "<style scoped>\n",
              "    .dataframe tbody tr th:only-of-type {\n",
              "        vertical-align: middle;\n",
              "    }\n",
              "\n",
              "    .dataframe tbody tr th {\n",
              "        vertical-align: top;\n",
              "    }\n",
              "\n",
              "    .dataframe thead th {\n",
              "        text-align: right;\n",
              "    }\n",
              "</style>\n",
              "<table border=\"1\" class=\"dataframe\">\n",
              "  <thead>\n",
              "    <tr style=\"text-align: right;\">\n",
              "      <th></th>\n",
              "      <th>preg</th>\n",
              "      <th>gluco</th>\n",
              "      <th>bp</th>\n",
              "      <th>stinmm</th>\n",
              "      <th>insulin</th>\n",
              "      <th>mass</th>\n",
              "      <th>dpf</th>\n",
              "      <th>age</th>\n",
              "    </tr>\n",
              "  </thead>\n",
              "  <tbody>\n",
              "    <tr>\n",
              "      <th>555</th>\n",
              "      <td>1</td>\n",
              "      <td>97</td>\n",
              "      <td>70</td>\n",
              "      <td>40</td>\n",
              "      <td>0</td>\n",
              "      <td>38.1</td>\n",
              "      <td>0.218</td>\n",
              "      <td>30</td>\n",
              "    </tr>\n",
              "    <tr>\n",
              "      <th>236</th>\n",
              "      <td>0</td>\n",
              "      <td>179</td>\n",
              "      <td>90</td>\n",
              "      <td>27</td>\n",
              "      <td>0</td>\n",
              "      <td>44.1</td>\n",
              "      <td>0.686</td>\n",
              "      <td>23</td>\n",
              "    </tr>\n",
              "    <tr>\n",
              "      <th>564</th>\n",
              "      <td>2</td>\n",
              "      <td>95</td>\n",
              "      <td>54</td>\n",
              "      <td>14</td>\n",
              "      <td>88</td>\n",
              "      <td>26.1</td>\n",
              "      <td>0.748</td>\n",
              "      <td>22</td>\n",
              "    </tr>\n",
              "    <tr>\n",
              "      <th>462</th>\n",
              "      <td>5</td>\n",
              "      <td>88</td>\n",
              "      <td>78</td>\n",
              "      <td>30</td>\n",
              "      <td>0</td>\n",
              "      <td>27.6</td>\n",
              "      <td>0.258</td>\n",
              "      <td>37</td>\n",
              "    </tr>\n",
              "    <tr>\n",
              "      <th>172</th>\n",
              "      <td>1</td>\n",
              "      <td>79</td>\n",
              "      <td>60</td>\n",
              "      <td>42</td>\n",
              "      <td>48</td>\n",
              "      <td>43.5</td>\n",
              "      <td>0.678</td>\n",
              "      <td>23</td>\n",
              "    </tr>\n",
              "    <tr>\n",
              "      <th>...</th>\n",
              "      <td>...</td>\n",
              "      <td>...</td>\n",
              "      <td>...</td>\n",
              "      <td>...</td>\n",
              "      <td>...</td>\n",
              "      <td>...</td>\n",
              "      <td>...</td>\n",
              "      <td>...</td>\n",
              "    </tr>\n",
              "    <tr>\n",
              "      <th>625</th>\n",
              "      <td>0</td>\n",
              "      <td>125</td>\n",
              "      <td>68</td>\n",
              "      <td>0</td>\n",
              "      <td>0</td>\n",
              "      <td>24.7</td>\n",
              "      <td>0.206</td>\n",
              "      <td>21</td>\n",
              "    </tr>\n",
              "    <tr>\n",
              "      <th>15</th>\n",
              "      <td>0</td>\n",
              "      <td>118</td>\n",
              "      <td>84</td>\n",
              "      <td>47</td>\n",
              "      <td>230</td>\n",
              "      <td>45.8</td>\n",
              "      <td>0.551</td>\n",
              "      <td>31</td>\n",
              "    </tr>\n",
              "    <tr>\n",
              "      <th>568</th>\n",
              "      <td>0</td>\n",
              "      <td>121</td>\n",
              "      <td>66</td>\n",
              "      <td>30</td>\n",
              "      <td>165</td>\n",
              "      <td>34.3</td>\n",
              "      <td>0.203</td>\n",
              "      <td>33</td>\n",
              "    </tr>\n",
              "    <tr>\n",
              "      <th>540</th>\n",
              "      <td>3</td>\n",
              "      <td>128</td>\n",
              "      <td>72</td>\n",
              "      <td>25</td>\n",
              "      <td>190</td>\n",
              "      <td>32.4</td>\n",
              "      <td>0.549</td>\n",
              "      <td>27</td>\n",
              "    </tr>\n",
              "    <tr>\n",
              "      <th>538</th>\n",
              "      <td>3</td>\n",
              "      <td>129</td>\n",
              "      <td>92</td>\n",
              "      <td>49</td>\n",
              "      <td>155</td>\n",
              "      <td>36.4</td>\n",
              "      <td>0.968</td>\n",
              "      <td>32</td>\n",
              "    </tr>\n",
              "  </tbody>\n",
              "</table>\n",
              "<p>431 rows × 8 columns</p>\n",
              "</div>"
            ],
            "text/plain": [
              "     preg  gluco  bp  stinmm  insulin  mass    dpf  age\n",
              "555     1     97  70      40        0  38.1  0.218   30\n",
              "236     0    179  90      27        0  44.1  0.686   23\n",
              "564     2     95  54      14       88  26.1  0.748   22\n",
              "462     5     88  78      30        0  27.6  0.258   37\n",
              "172     1     79  60      42       48  43.5  0.678   23\n",
              "..    ...    ...  ..     ...      ...   ...    ...  ...\n",
              "625     0    125  68       0        0  24.7  0.206   21\n",
              "15      0    118  84      47      230  45.8  0.551   31\n",
              "568     0    121  66      30      165  34.3  0.203   33\n",
              "540     3    128  72      25      190  32.4  0.549   27\n",
              "538     3    129  92      49      155  36.4  0.968   32\n",
              "\n",
              "[431 rows x 8 columns]"
            ]
          },
          "metadata": {
            "tags": []
          },
          "execution_count": 41
        }
      ]
    },
    {
      "cell_type": "code",
      "metadata": {
        "id": "fcqDJ2xjje_4"
      },
      "source": [
        "#convert data into sandard scaler formate\n",
        "from sklearn.preprocessing import StandardScaler\n",
        "scaler = StandardScaler()\n",
        "X_train = scaler.fit_transform(X_train)\n",
        "X_valid = scaler.transform(X_valid)\n",
        "X_test = scaler.transform(X_test)"
      ],
      "execution_count": null,
      "outputs": []
    },
    {
      "cell_type": "code",
      "metadata": {
        "id": "VmpQsGcUxZXM",
        "outputId": "9642c2a1-42a3-42a2-c9e4-9b30ea9d2b48",
        "colab": {
          "base_uri": "https://localhost:8080/",
          "height": 235
        }
      },
      "source": [
        "X_train"
      ],
      "execution_count": null,
      "outputs": [
        {
          "output_type": "execute_result",
          "data": {
            "text/plain": [
              "array([[-0.8238818 , -0.7824095 , -0.01380899, ...,  0.77303889,\n",
              "        -0.76278435, -0.27611513],\n",
              "       [-1.12583167,  1.84210801,  1.13074397, ...,  1.51081516,\n",
              "         0.63759524, -0.85906777],\n",
              "       [-0.52193192, -0.84642212, -0.92945136, ..., -0.70251364,\n",
              "         0.82311561, -0.94234672],\n",
              "       ...,\n",
              "       [-1.12583167, -0.01425803, -0.24271958, ...,  0.30578059,\n",
              "        -0.80766831, -0.02627828],\n",
              "       [-0.21998204,  0.20978615,  0.1006463 , ...,  0.07215144,\n",
              "         0.22765506, -0.52595197],\n",
              "       [-0.21998204,  0.24179246,  1.24519926, ...,  0.56400228,\n",
              "         1.48141371, -0.10955723]])"
            ]
          },
          "metadata": {
            "tags": []
          },
          "execution_count": 43
        }
      ]
    },
    {
      "cell_type": "code",
      "metadata": {
        "id": "zO-xtUrBjkI8"
      },
      "source": [
        "import numpy as np\n",
        "import tensorflow as tf\n",
        "np.random.seed(42)\n",
        "tf.random.set_seed(42)"
      ],
      "execution_count": null,
      "outputs": []
    },
    {
      "cell_type": "code",
      "metadata": {
        "id": "AaImXSLijl-y",
        "outputId": "5f752b5f-f2d2-4d04-95c5-d51a029b31d8",
        "colab": {
          "base_uri": "https://localhost:8080/",
          "height": 34
        }
      },
      "source": [
        "X_train.shape"
      ],
      "execution_count": null,
      "outputs": [
        {
          "output_type": "execute_result",
          "data": {
            "text/plain": [
              "(431, 8)"
            ]
          },
          "metadata": {
            "tags": []
          },
          "execution_count": 45
        }
      ]
    },
    {
      "cell_type": "code",
      "metadata": {
        "id": "fWYG0jTXjmJP"
      },
      "source": [
        "model = Sequential()\n",
        "model.add(Dense(20, input_dim=8, activation='relu')) # input layer requires input_dim param\n",
        "model.add(Dense(15, activation='relu'))\n",
        "model.add(Dense(10, activation='relu'))\n",
        "model.add(Dense(8, activation='relu'))\n",
        "model.add(Dropout(.25))\n",
        "model.add(Dense(1, activation='sigmoid')) # sigmoid instead of relu for final probability between 0 and 1"
      ],
      "execution_count": null,
      "outputs": []
    },
    {
      "cell_type": "code",
      "metadata": {
        "id": "OuHTQxF1gPRH"
      },
      "source": [
        ""
      ],
      "execution_count": null,
      "outputs": []
    },
    {
      "cell_type": "code",
      "metadata": {
        "id": "fi23UqCHjxbP",
        "outputId": "5eda5ee0-c6d5-4df1-b44e-6b1ca324cf9f",
        "colab": {
          "base_uri": "https://localhost:8080/",
          "height": 353
        }
      },
      "source": [
        "model.summary()"
      ],
      "execution_count": null,
      "outputs": [
        {
          "output_type": "stream",
          "text": [
            "Model: \"sequential_5\"\n",
            "_________________________________________________________________\n",
            "Layer (type)                 Output Shape              Param #   \n",
            "=================================================================\n",
            "dense_22 (Dense)             (None, 20)                180       \n",
            "_________________________________________________________________\n",
            "dense_23 (Dense)             (None, 15)                315       \n",
            "_________________________________________________________________\n",
            "dense_24 (Dense)             (None, 10)                160       \n",
            "_________________________________________________________________\n",
            "dense_25 (Dense)             (None, 8)                 88        \n",
            "_________________________________________________________________\n",
            "dropout_5 (Dropout)          (None, 8)                 0         \n",
            "_________________________________________________________________\n",
            "dense_26 (Dense)             (None, 1)                 9         \n",
            "=================================================================\n",
            "Total params: 752\n",
            "Trainable params: 752\n",
            "Non-trainable params: 0\n",
            "_________________________________________________________________\n"
          ],
          "name": "stdout"
        }
      ]
    },
    {
      "cell_type": "code",
      "metadata": {
        "id": "rFAQQpzujziB"
      },
      "source": [
        "model.compile(loss=\"binary_crossentropy\", optimizer=\"SGD\", metrics=['accuracy'])"
      ],
      "execution_count": null,
      "outputs": []
    },
    {
      "cell_type": "code",
      "metadata": {
        "id": "Kba-H5afj6BC",
        "outputId": "9a387778-cd9e-4bf5-977b-7142ead7bcea",
        "colab": {
          "base_uri": "https://localhost:8080/",
          "height": 1000
        }
      },
      "source": [
        "model_history = model.fit(X_train, y_train, epochs=200, validation_data=(X_valid, y_valid))"
      ],
      "execution_count": null,
      "outputs": [
        {
          "output_type": "stream",
          "text": [
            "Epoch 1/200\n",
            "14/14 [==============================] - 0s 10ms/step - loss: 0.7996 - accuracy: 0.4037 - val_loss: 0.7656 - val_accuracy: 0.4028\n",
            "Epoch 2/200\n",
            "14/14 [==============================] - 0s 3ms/step - loss: 0.7371 - accuracy: 0.5267 - val_loss: 0.7231 - val_accuracy: 0.5347\n",
            "Epoch 3/200\n",
            "14/14 [==============================] - 0s 4ms/step - loss: 0.7123 - accuracy: 0.6125 - val_loss: 0.6969 - val_accuracy: 0.5833\n",
            "Epoch 4/200\n",
            "14/14 [==============================] - 0s 3ms/step - loss: 0.6855 - accuracy: 0.6729 - val_loss: 0.6790 - val_accuracy: 0.6042\n",
            "Epoch 5/200\n",
            "14/14 [==============================] - 0s 3ms/step - loss: 0.6805 - accuracy: 0.6613 - val_loss: 0.6655 - val_accuracy: 0.6458\n",
            "Epoch 6/200\n",
            "14/14 [==============================] - 0s 3ms/step - loss: 0.6625 - accuracy: 0.6613 - val_loss: 0.6546 - val_accuracy: 0.6806\n",
            "Epoch 7/200\n",
            "14/14 [==============================] - 0s 3ms/step - loss: 0.6540 - accuracy: 0.6682 - val_loss: 0.6457 - val_accuracy: 0.6875\n",
            "Epoch 8/200\n",
            "14/14 [==============================] - 0s 4ms/step - loss: 0.6507 - accuracy: 0.6775 - val_loss: 0.6378 - val_accuracy: 0.6875\n",
            "Epoch 9/200\n",
            "14/14 [==============================] - 0s 3ms/step - loss: 0.6472 - accuracy: 0.6613 - val_loss: 0.6318 - val_accuracy: 0.7014\n",
            "Epoch 10/200\n",
            "14/14 [==============================] - 0s 4ms/step - loss: 0.6352 - accuracy: 0.6984 - val_loss: 0.6265 - val_accuracy: 0.7222\n",
            "Epoch 11/200\n",
            "14/14 [==============================] - 0s 4ms/step - loss: 0.6279 - accuracy: 0.6705 - val_loss: 0.6217 - val_accuracy: 0.7222\n",
            "Epoch 12/200\n",
            "14/14 [==============================] - 0s 4ms/step - loss: 0.6292 - accuracy: 0.6798 - val_loss: 0.6178 - val_accuracy: 0.7153\n",
            "Epoch 13/200\n",
            "14/14 [==============================] - 0s 4ms/step - loss: 0.6181 - accuracy: 0.6752 - val_loss: 0.6135 - val_accuracy: 0.7222\n",
            "Epoch 14/200\n",
            "14/14 [==============================] - 0s 4ms/step - loss: 0.6186 - accuracy: 0.6891 - val_loss: 0.6102 - val_accuracy: 0.7431\n",
            "Epoch 15/200\n",
            "14/14 [==============================] - 0s 4ms/step - loss: 0.6136 - accuracy: 0.6961 - val_loss: 0.6075 - val_accuracy: 0.7500\n",
            "Epoch 16/200\n",
            "14/14 [==============================] - 0s 4ms/step - loss: 0.6036 - accuracy: 0.7053 - val_loss: 0.6044 - val_accuracy: 0.7569\n",
            "Epoch 17/200\n",
            "14/14 [==============================] - 0s 4ms/step - loss: 0.6026 - accuracy: 0.7030 - val_loss: 0.6018 - val_accuracy: 0.7500\n",
            "Epoch 18/200\n",
            "14/14 [==============================] - 0s 4ms/step - loss: 0.6012 - accuracy: 0.6821 - val_loss: 0.5991 - val_accuracy: 0.7431\n",
            "Epoch 19/200\n",
            "14/14 [==============================] - 0s 5ms/step - loss: 0.5936 - accuracy: 0.6961 - val_loss: 0.5965 - val_accuracy: 0.7431\n",
            "Epoch 20/200\n",
            "14/14 [==============================] - 0s 4ms/step - loss: 0.5982 - accuracy: 0.7077 - val_loss: 0.5943 - val_accuracy: 0.7292\n",
            "Epoch 21/200\n",
            "14/14 [==============================] - 0s 4ms/step - loss: 0.5998 - accuracy: 0.6868 - val_loss: 0.5922 - val_accuracy: 0.7292\n",
            "Epoch 22/200\n",
            "14/14 [==============================] - 0s 3ms/step - loss: 0.5991 - accuracy: 0.6845 - val_loss: 0.5900 - val_accuracy: 0.7292\n",
            "Epoch 23/200\n",
            "14/14 [==============================] - 0s 3ms/step - loss: 0.5949 - accuracy: 0.7123 - val_loss: 0.5879 - val_accuracy: 0.7292\n",
            "Epoch 24/200\n",
            "14/14 [==============================] - 0s 3ms/step - loss: 0.5905 - accuracy: 0.7216 - val_loss: 0.5865 - val_accuracy: 0.7292\n",
            "Epoch 25/200\n",
            "14/14 [==============================] - 0s 3ms/step - loss: 0.5859 - accuracy: 0.7053 - val_loss: 0.5843 - val_accuracy: 0.7292\n",
            "Epoch 26/200\n",
            "14/14 [==============================] - 0s 3ms/step - loss: 0.5750 - accuracy: 0.7216 - val_loss: 0.5825 - val_accuracy: 0.7292\n",
            "Epoch 27/200\n",
            "14/14 [==============================] - 0s 3ms/step - loss: 0.5697 - accuracy: 0.7378 - val_loss: 0.5803 - val_accuracy: 0.7292\n",
            "Epoch 28/200\n",
            "14/14 [==============================] - 0s 3ms/step - loss: 0.5685 - accuracy: 0.7262 - val_loss: 0.5784 - val_accuracy: 0.7292\n",
            "Epoch 29/200\n",
            "14/14 [==============================] - 0s 3ms/step - loss: 0.5602 - accuracy: 0.7448 - val_loss: 0.5763 - val_accuracy: 0.7222\n",
            "Epoch 30/200\n",
            "14/14 [==============================] - 0s 4ms/step - loss: 0.5738 - accuracy: 0.7355 - val_loss: 0.5745 - val_accuracy: 0.7292\n",
            "Epoch 31/200\n",
            "14/14 [==============================] - 0s 4ms/step - loss: 0.5603 - accuracy: 0.7355 - val_loss: 0.5729 - val_accuracy: 0.7222\n",
            "Epoch 32/200\n",
            "14/14 [==============================] - 0s 3ms/step - loss: 0.5642 - accuracy: 0.7378 - val_loss: 0.5712 - val_accuracy: 0.7153\n",
            "Epoch 33/200\n",
            "14/14 [==============================] - 0s 3ms/step - loss: 0.5613 - accuracy: 0.7425 - val_loss: 0.5694 - val_accuracy: 0.7083\n",
            "Epoch 34/200\n",
            "14/14 [==============================] - 0s 3ms/step - loss: 0.5555 - accuracy: 0.7378 - val_loss: 0.5678 - val_accuracy: 0.7083\n",
            "Epoch 35/200\n",
            "14/14 [==============================] - 0s 3ms/step - loss: 0.5467 - accuracy: 0.7541 - val_loss: 0.5664 - val_accuracy: 0.7153\n",
            "Epoch 36/200\n",
            "14/14 [==============================] - 0s 3ms/step - loss: 0.5483 - accuracy: 0.7448 - val_loss: 0.5648 - val_accuracy: 0.7153\n",
            "Epoch 37/200\n",
            "14/14 [==============================] - 0s 3ms/step - loss: 0.5440 - accuracy: 0.7517 - val_loss: 0.5637 - val_accuracy: 0.7222\n",
            "Epoch 38/200\n",
            "14/14 [==============================] - 0s 3ms/step - loss: 0.5475 - accuracy: 0.7517 - val_loss: 0.5624 - val_accuracy: 0.7153\n",
            "Epoch 39/200\n",
            "14/14 [==============================] - 0s 3ms/step - loss: 0.5391 - accuracy: 0.7564 - val_loss: 0.5609 - val_accuracy: 0.7292\n",
            "Epoch 40/200\n",
            "14/14 [==============================] - 0s 3ms/step - loss: 0.5338 - accuracy: 0.7610 - val_loss: 0.5597 - val_accuracy: 0.7361\n",
            "Epoch 41/200\n",
            "14/14 [==============================] - 0s 3ms/step - loss: 0.5546 - accuracy: 0.7471 - val_loss: 0.5584 - val_accuracy: 0.7431\n",
            "Epoch 42/200\n",
            "14/14 [==============================] - 0s 3ms/step - loss: 0.5217 - accuracy: 0.7564 - val_loss: 0.5574 - val_accuracy: 0.7361\n",
            "Epoch 43/200\n",
            "14/14 [==============================] - 0s 4ms/step - loss: 0.5297 - accuracy: 0.7401 - val_loss: 0.5565 - val_accuracy: 0.7292\n",
            "Epoch 44/200\n",
            "14/14 [==============================] - 0s 3ms/step - loss: 0.5313 - accuracy: 0.7494 - val_loss: 0.5556 - val_accuracy: 0.7361\n",
            "Epoch 45/200\n",
            "14/14 [==============================] - 0s 4ms/step - loss: 0.5320 - accuracy: 0.7448 - val_loss: 0.5545 - val_accuracy: 0.7292\n",
            "Epoch 46/200\n",
            "14/14 [==============================] - 0s 3ms/step - loss: 0.5315 - accuracy: 0.7564 - val_loss: 0.5533 - val_accuracy: 0.7292\n",
            "Epoch 47/200\n",
            "14/14 [==============================] - 0s 3ms/step - loss: 0.5289 - accuracy: 0.7610 - val_loss: 0.5521 - val_accuracy: 0.7292\n",
            "Epoch 48/200\n",
            "14/14 [==============================] - 0s 4ms/step - loss: 0.5289 - accuracy: 0.7471 - val_loss: 0.5515 - val_accuracy: 0.7292\n",
            "Epoch 49/200\n",
            "14/14 [==============================] - 0s 4ms/step - loss: 0.5076 - accuracy: 0.7680 - val_loss: 0.5510 - val_accuracy: 0.7292\n",
            "Epoch 50/200\n",
            "14/14 [==============================] - 0s 5ms/step - loss: 0.5223 - accuracy: 0.7401 - val_loss: 0.5501 - val_accuracy: 0.7292\n",
            "Epoch 51/200\n",
            "14/14 [==============================] - 0s 4ms/step - loss: 0.5194 - accuracy: 0.7680 - val_loss: 0.5496 - val_accuracy: 0.7292\n",
            "Epoch 52/200\n",
            "14/14 [==============================] - 0s 4ms/step - loss: 0.5153 - accuracy: 0.7587 - val_loss: 0.5490 - val_accuracy: 0.7292\n",
            "Epoch 53/200\n",
            "14/14 [==============================] - 0s 4ms/step - loss: 0.5098 - accuracy: 0.7726 - val_loss: 0.5481 - val_accuracy: 0.7292\n",
            "Epoch 54/200\n",
            "14/14 [==============================] - 0s 4ms/step - loss: 0.5298 - accuracy: 0.7355 - val_loss: 0.5474 - val_accuracy: 0.7292\n",
            "Epoch 55/200\n",
            "14/14 [==============================] - 0s 4ms/step - loss: 0.5232 - accuracy: 0.7425 - val_loss: 0.5468 - val_accuracy: 0.7292\n",
            "Epoch 56/200\n",
            "14/14 [==============================] - 0s 4ms/step - loss: 0.4965 - accuracy: 0.7842 - val_loss: 0.5466 - val_accuracy: 0.7361\n",
            "Epoch 57/200\n",
            "14/14 [==============================] - 0s 4ms/step - loss: 0.5229 - accuracy: 0.7541 - val_loss: 0.5459 - val_accuracy: 0.7361\n",
            "Epoch 58/200\n",
            "14/14 [==============================] - 0s 4ms/step - loss: 0.5256 - accuracy: 0.7633 - val_loss: 0.5448 - val_accuracy: 0.7222\n",
            "Epoch 59/200\n",
            "14/14 [==============================] - 0s 4ms/step - loss: 0.5329 - accuracy: 0.7541 - val_loss: 0.5440 - val_accuracy: 0.7292\n",
            "Epoch 60/200\n",
            "14/14 [==============================] - 0s 4ms/step - loss: 0.5044 - accuracy: 0.7726 - val_loss: 0.5433 - val_accuracy: 0.7292\n",
            "Epoch 61/200\n",
            "14/14 [==============================] - 0s 5ms/step - loss: 0.5184 - accuracy: 0.7587 - val_loss: 0.5430 - val_accuracy: 0.7431\n",
            "Epoch 62/200\n",
            "14/14 [==============================] - 0s 4ms/step - loss: 0.5048 - accuracy: 0.7587 - val_loss: 0.5428 - val_accuracy: 0.7431\n",
            "Epoch 63/200\n",
            "14/14 [==============================] - 0s 4ms/step - loss: 0.5056 - accuracy: 0.7796 - val_loss: 0.5414 - val_accuracy: 0.7431\n",
            "Epoch 64/200\n",
            "14/14 [==============================] - 0s 3ms/step - loss: 0.5131 - accuracy: 0.7471 - val_loss: 0.5411 - val_accuracy: 0.7500\n",
            "Epoch 65/200\n",
            "14/14 [==============================] - 0s 4ms/step - loss: 0.5036 - accuracy: 0.7796 - val_loss: 0.5407 - val_accuracy: 0.7500\n",
            "Epoch 66/200\n",
            "14/14 [==============================] - 0s 4ms/step - loss: 0.5072 - accuracy: 0.7587 - val_loss: 0.5401 - val_accuracy: 0.7500\n",
            "Epoch 67/200\n",
            "14/14 [==============================] - 0s 4ms/step - loss: 0.5081 - accuracy: 0.7657 - val_loss: 0.5391 - val_accuracy: 0.7569\n",
            "Epoch 68/200\n",
            "14/14 [==============================] - 0s 4ms/step - loss: 0.5141 - accuracy: 0.7680 - val_loss: 0.5385 - val_accuracy: 0.7500\n",
            "Epoch 69/200\n",
            "14/14 [==============================] - 0s 4ms/step - loss: 0.5183 - accuracy: 0.7564 - val_loss: 0.5381 - val_accuracy: 0.7569\n",
            "Epoch 70/200\n",
            "14/14 [==============================] - 0s 4ms/step - loss: 0.5137 - accuracy: 0.7657 - val_loss: 0.5377 - val_accuracy: 0.7431\n",
            "Epoch 71/200\n",
            "14/14 [==============================] - 0s 4ms/step - loss: 0.5066 - accuracy: 0.7633 - val_loss: 0.5373 - val_accuracy: 0.7569\n",
            "Epoch 72/200\n",
            "14/14 [==============================] - 0s 4ms/step - loss: 0.5120 - accuracy: 0.7865 - val_loss: 0.5367 - val_accuracy: 0.7500\n",
            "Epoch 73/200\n",
            "14/14 [==============================] - 0s 5ms/step - loss: 0.5100 - accuracy: 0.7587 - val_loss: 0.5364 - val_accuracy: 0.7569\n",
            "Epoch 74/200\n",
            "14/14 [==============================] - 0s 4ms/step - loss: 0.4980 - accuracy: 0.7541 - val_loss: 0.5359 - val_accuracy: 0.7569\n",
            "Epoch 75/200\n",
            "14/14 [==============================] - 0s 4ms/step - loss: 0.4946 - accuracy: 0.7773 - val_loss: 0.5357 - val_accuracy: 0.7569\n",
            "Epoch 76/200\n",
            "14/14 [==============================] - 0s 4ms/step - loss: 0.5040 - accuracy: 0.7703 - val_loss: 0.5354 - val_accuracy: 0.7569\n",
            "Epoch 77/200\n",
            "14/14 [==============================] - 0s 4ms/step - loss: 0.5053 - accuracy: 0.7633 - val_loss: 0.5347 - val_accuracy: 0.7569\n",
            "Epoch 78/200\n",
            "14/14 [==============================] - 0s 4ms/step - loss: 0.4950 - accuracy: 0.7633 - val_loss: 0.5343 - val_accuracy: 0.7708\n",
            "Epoch 79/200\n",
            "14/14 [==============================] - 0s 4ms/step - loss: 0.4838 - accuracy: 0.7865 - val_loss: 0.5343 - val_accuracy: 0.7639\n",
            "Epoch 80/200\n",
            "14/14 [==============================] - 0s 3ms/step - loss: 0.4800 - accuracy: 0.7773 - val_loss: 0.5336 - val_accuracy: 0.7639\n",
            "Epoch 81/200\n",
            "14/14 [==============================] - 0s 3ms/step - loss: 0.5030 - accuracy: 0.7657 - val_loss: 0.5329 - val_accuracy: 0.7708\n",
            "Epoch 82/200\n",
            "14/14 [==============================] - 0s 3ms/step - loss: 0.4837 - accuracy: 0.7773 - val_loss: 0.5327 - val_accuracy: 0.7708\n",
            "Epoch 83/200\n",
            "14/14 [==============================] - 0s 3ms/step - loss: 0.4933 - accuracy: 0.7633 - val_loss: 0.5325 - val_accuracy: 0.7708\n",
            "Epoch 84/200\n",
            "14/14 [==============================] - 0s 4ms/step - loss: 0.4888 - accuracy: 0.7680 - val_loss: 0.5321 - val_accuracy: 0.7708\n",
            "Epoch 85/200\n",
            "14/14 [==============================] - 0s 4ms/step - loss: 0.4884 - accuracy: 0.7865 - val_loss: 0.5318 - val_accuracy: 0.7708\n",
            "Epoch 86/200\n",
            "14/14 [==============================] - 0s 3ms/step - loss: 0.4943 - accuracy: 0.7657 - val_loss: 0.5317 - val_accuracy: 0.7708\n",
            "Epoch 87/200\n",
            "14/14 [==============================] - 0s 3ms/step - loss: 0.4792 - accuracy: 0.7796 - val_loss: 0.5315 - val_accuracy: 0.7778\n",
            "Epoch 88/200\n",
            "14/14 [==============================] - 0s 4ms/step - loss: 0.4855 - accuracy: 0.7726 - val_loss: 0.5312 - val_accuracy: 0.7639\n",
            "Epoch 89/200\n",
            "14/14 [==============================] - 0s 4ms/step - loss: 0.4725 - accuracy: 0.7796 - val_loss: 0.5314 - val_accuracy: 0.7778\n",
            "Epoch 90/200\n",
            "14/14 [==============================] - 0s 3ms/step - loss: 0.4965 - accuracy: 0.7633 - val_loss: 0.5309 - val_accuracy: 0.7708\n",
            "Epoch 91/200\n",
            "14/14 [==============================] - 0s 3ms/step - loss: 0.5095 - accuracy: 0.7494 - val_loss: 0.5306 - val_accuracy: 0.7708\n",
            "Epoch 92/200\n",
            "14/14 [==============================] - 0s 4ms/step - loss: 0.4927 - accuracy: 0.7633 - val_loss: 0.5304 - val_accuracy: 0.7708\n",
            "Epoch 93/200\n",
            "14/14 [==============================] - 0s 3ms/step - loss: 0.4776 - accuracy: 0.7703 - val_loss: 0.5300 - val_accuracy: 0.7778\n",
            "Epoch 94/200\n",
            "14/14 [==============================] - 0s 4ms/step - loss: 0.4873 - accuracy: 0.7726 - val_loss: 0.5298 - val_accuracy: 0.7778\n",
            "Epoch 95/200\n",
            "14/14 [==============================] - 0s 3ms/step - loss: 0.4868 - accuracy: 0.7773 - val_loss: 0.5293 - val_accuracy: 0.7708\n",
            "Epoch 96/200\n",
            "14/14 [==============================] - 0s 4ms/step - loss: 0.4835 - accuracy: 0.7726 - val_loss: 0.5291 - val_accuracy: 0.7708\n",
            "Epoch 97/200\n",
            "14/14 [==============================] - 0s 3ms/step - loss: 0.4834 - accuracy: 0.7633 - val_loss: 0.5290 - val_accuracy: 0.7708\n",
            "Epoch 98/200\n",
            "14/14 [==============================] - 0s 3ms/step - loss: 0.4625 - accuracy: 0.7889 - val_loss: 0.5290 - val_accuracy: 0.7639\n",
            "Epoch 99/200\n",
            "14/14 [==============================] - 0s 4ms/step - loss: 0.4801 - accuracy: 0.7726 - val_loss: 0.5290 - val_accuracy: 0.7708\n",
            "Epoch 100/200\n",
            "14/14 [==============================] - 0s 3ms/step - loss: 0.4796 - accuracy: 0.7657 - val_loss: 0.5289 - val_accuracy: 0.7708\n",
            "Epoch 101/200\n",
            "14/14 [==============================] - 0s 3ms/step - loss: 0.4731 - accuracy: 0.7703 - val_loss: 0.5285 - val_accuracy: 0.7639\n",
            "Epoch 102/200\n",
            "14/14 [==============================] - 0s 4ms/step - loss: 0.4720 - accuracy: 0.7726 - val_loss: 0.5284 - val_accuracy: 0.7708\n",
            "Epoch 103/200\n",
            "14/14 [==============================] - 0s 4ms/step - loss: 0.4650 - accuracy: 0.7749 - val_loss: 0.5285 - val_accuracy: 0.7778\n",
            "Epoch 104/200\n",
            "14/14 [==============================] - 0s 4ms/step - loss: 0.4947 - accuracy: 0.7680 - val_loss: 0.5286 - val_accuracy: 0.7778\n",
            "Epoch 105/200\n",
            "14/14 [==============================] - 0s 4ms/step - loss: 0.4716 - accuracy: 0.7773 - val_loss: 0.5279 - val_accuracy: 0.7708\n",
            "Epoch 106/200\n",
            "14/14 [==============================] - 0s 4ms/step - loss: 0.4796 - accuracy: 0.7749 - val_loss: 0.5285 - val_accuracy: 0.7708\n",
            "Epoch 107/200\n",
            "14/14 [==============================] - 0s 3ms/step - loss: 0.4575 - accuracy: 0.7912 - val_loss: 0.5284 - val_accuracy: 0.7639\n",
            "Epoch 108/200\n",
            "14/14 [==============================] - 0s 3ms/step - loss: 0.4771 - accuracy: 0.7773 - val_loss: 0.5284 - val_accuracy: 0.7569\n",
            "Epoch 109/200\n",
            "14/14 [==============================] - 0s 4ms/step - loss: 0.4549 - accuracy: 0.7726 - val_loss: 0.5280 - val_accuracy: 0.7708\n",
            "Epoch 110/200\n",
            "14/14 [==============================] - 0s 4ms/step - loss: 0.4816 - accuracy: 0.7610 - val_loss: 0.5281 - val_accuracy: 0.7708\n",
            "Epoch 111/200\n",
            "14/14 [==============================] - 0s 4ms/step - loss: 0.4593 - accuracy: 0.7796 - val_loss: 0.5280 - val_accuracy: 0.7778\n",
            "Epoch 112/200\n",
            "14/14 [==============================] - 0s 3ms/step - loss: 0.4692 - accuracy: 0.7819 - val_loss: 0.5277 - val_accuracy: 0.7847\n",
            "Epoch 113/200\n",
            "14/14 [==============================] - 0s 3ms/step - loss: 0.4647 - accuracy: 0.7889 - val_loss: 0.5279 - val_accuracy: 0.7708\n",
            "Epoch 114/200\n",
            "14/14 [==============================] - 0s 4ms/step - loss: 0.4636 - accuracy: 0.7889 - val_loss: 0.5279 - val_accuracy: 0.7708\n",
            "Epoch 115/200\n",
            "14/14 [==============================] - 0s 4ms/step - loss: 0.4381 - accuracy: 0.7981 - val_loss: 0.5280 - val_accuracy: 0.7708\n",
            "Epoch 116/200\n",
            "14/14 [==============================] - 0s 5ms/step - loss: 0.4566 - accuracy: 0.7865 - val_loss: 0.5279 - val_accuracy: 0.7778\n",
            "Epoch 117/200\n",
            "14/14 [==============================] - 0s 4ms/step - loss: 0.4606 - accuracy: 0.7865 - val_loss: 0.5278 - val_accuracy: 0.7778\n",
            "Epoch 118/200\n",
            "14/14 [==============================] - 0s 4ms/step - loss: 0.4593 - accuracy: 0.7912 - val_loss: 0.5280 - val_accuracy: 0.7778\n",
            "Epoch 119/200\n",
            "14/14 [==============================] - 0s 4ms/step - loss: 0.4563 - accuracy: 0.7842 - val_loss: 0.5279 - val_accuracy: 0.7778\n",
            "Epoch 120/200\n",
            "14/14 [==============================] - 0s 4ms/step - loss: 0.4666 - accuracy: 0.7749 - val_loss: 0.5271 - val_accuracy: 0.7778\n",
            "Epoch 121/200\n",
            "14/14 [==============================] - 0s 4ms/step - loss: 0.4441 - accuracy: 0.8097 - val_loss: 0.5270 - val_accuracy: 0.7708\n",
            "Epoch 122/200\n",
            "14/14 [==============================] - 0s 4ms/step - loss: 0.4484 - accuracy: 0.7796 - val_loss: 0.5269 - val_accuracy: 0.7778\n",
            "Epoch 123/200\n",
            "14/14 [==============================] - 0s 4ms/step - loss: 0.4580 - accuracy: 0.7819 - val_loss: 0.5273 - val_accuracy: 0.7569\n",
            "Epoch 124/200\n",
            "14/14 [==============================] - 0s 4ms/step - loss: 0.4582 - accuracy: 0.7912 - val_loss: 0.5276 - val_accuracy: 0.7708\n",
            "Epoch 125/200\n",
            "14/14 [==============================] - 0s 4ms/step - loss: 0.4534 - accuracy: 0.7796 - val_loss: 0.5281 - val_accuracy: 0.7778\n",
            "Epoch 126/200\n",
            "14/14 [==============================] - 0s 4ms/step - loss: 0.4550 - accuracy: 0.7865 - val_loss: 0.5280 - val_accuracy: 0.7708\n",
            "Epoch 127/200\n",
            "14/14 [==============================] - 0s 4ms/step - loss: 0.4675 - accuracy: 0.7749 - val_loss: 0.5280 - val_accuracy: 0.7569\n",
            "Epoch 128/200\n",
            "14/14 [==============================] - 0s 3ms/step - loss: 0.4481 - accuracy: 0.7865 - val_loss: 0.5286 - val_accuracy: 0.7778\n",
            "Epoch 129/200\n",
            "14/14 [==============================] - 0s 3ms/step - loss: 0.4650 - accuracy: 0.7749 - val_loss: 0.5286 - val_accuracy: 0.7708\n",
            "Epoch 130/200\n",
            "14/14 [==============================] - 0s 4ms/step - loss: 0.4632 - accuracy: 0.7935 - val_loss: 0.5285 - val_accuracy: 0.7569\n",
            "Epoch 131/200\n",
            "14/14 [==============================] - 0s 4ms/step - loss: 0.4345 - accuracy: 0.8005 - val_loss: 0.5283 - val_accuracy: 0.7708\n",
            "Epoch 132/200\n",
            "14/14 [==============================] - 0s 4ms/step - loss: 0.4511 - accuracy: 0.7935 - val_loss: 0.5288 - val_accuracy: 0.7639\n",
            "Epoch 133/200\n",
            "14/14 [==============================] - 0s 4ms/step - loss: 0.4400 - accuracy: 0.7912 - val_loss: 0.5293 - val_accuracy: 0.7639\n",
            "Epoch 134/200\n",
            "14/14 [==============================] - 0s 3ms/step - loss: 0.4427 - accuracy: 0.8005 - val_loss: 0.5290 - val_accuracy: 0.7708\n",
            "Epoch 135/200\n",
            "14/14 [==============================] - 0s 3ms/step - loss: 0.4610 - accuracy: 0.7796 - val_loss: 0.5292 - val_accuracy: 0.7639\n",
            "Epoch 136/200\n",
            "14/14 [==============================] - 0s 3ms/step - loss: 0.4440 - accuracy: 0.8005 - val_loss: 0.5290 - val_accuracy: 0.7500\n",
            "Epoch 137/200\n",
            "14/14 [==============================] - 0s 3ms/step - loss: 0.4476 - accuracy: 0.7912 - val_loss: 0.5288 - val_accuracy: 0.7639\n",
            "Epoch 138/200\n",
            "14/14 [==============================] - 0s 4ms/step - loss: 0.4395 - accuracy: 0.7865 - val_loss: 0.5287 - val_accuracy: 0.7639\n",
            "Epoch 139/200\n",
            "14/14 [==============================] - 0s 3ms/step - loss: 0.4604 - accuracy: 0.7842 - val_loss: 0.5283 - val_accuracy: 0.7569\n",
            "Epoch 140/200\n",
            "14/14 [==============================] - 0s 4ms/step - loss: 0.4396 - accuracy: 0.7889 - val_loss: 0.5291 - val_accuracy: 0.7639\n",
            "Epoch 141/200\n",
            "14/14 [==============================] - 0s 3ms/step - loss: 0.4404 - accuracy: 0.7865 - val_loss: 0.5293 - val_accuracy: 0.7639\n",
            "Epoch 142/200\n",
            "14/14 [==============================] - 0s 4ms/step - loss: 0.4202 - accuracy: 0.8074 - val_loss: 0.5289 - val_accuracy: 0.7639\n",
            "Epoch 143/200\n",
            "14/14 [==============================] - 0s 3ms/step - loss: 0.4498 - accuracy: 0.7889 - val_loss: 0.5292 - val_accuracy: 0.7639\n",
            "Epoch 144/200\n",
            "14/14 [==============================] - 0s 4ms/step - loss: 0.4405 - accuracy: 0.7981 - val_loss: 0.5289 - val_accuracy: 0.7639\n",
            "Epoch 145/200\n",
            "14/14 [==============================] - 0s 4ms/step - loss: 0.4474 - accuracy: 0.8005 - val_loss: 0.5293 - val_accuracy: 0.7569\n",
            "Epoch 146/200\n",
            "14/14 [==============================] - 0s 3ms/step - loss: 0.4368 - accuracy: 0.7958 - val_loss: 0.5297 - val_accuracy: 0.7569\n",
            "Epoch 147/200\n",
            "14/14 [==============================] - 0s 4ms/step - loss: 0.4467 - accuracy: 0.7703 - val_loss: 0.5297 - val_accuracy: 0.7569\n",
            "Epoch 148/200\n",
            "14/14 [==============================] - 0s 3ms/step - loss: 0.4462 - accuracy: 0.7958 - val_loss: 0.5295 - val_accuracy: 0.7569\n",
            "Epoch 149/200\n",
            "14/14 [==============================] - 0s 4ms/step - loss: 0.4481 - accuracy: 0.7889 - val_loss: 0.5296 - val_accuracy: 0.7569\n",
            "Epoch 150/200\n",
            "14/14 [==============================] - 0s 4ms/step - loss: 0.4423 - accuracy: 0.7773 - val_loss: 0.5298 - val_accuracy: 0.7569\n",
            "Epoch 151/200\n",
            "14/14 [==============================] - 0s 4ms/step - loss: 0.4435 - accuracy: 0.7889 - val_loss: 0.5297 - val_accuracy: 0.7569\n",
            "Epoch 152/200\n",
            "14/14 [==============================] - 0s 4ms/step - loss: 0.4379 - accuracy: 0.7912 - val_loss: 0.5303 - val_accuracy: 0.7569\n",
            "Epoch 153/200\n",
            "14/14 [==============================] - 0s 4ms/step - loss: 0.4308 - accuracy: 0.7749 - val_loss: 0.5307 - val_accuracy: 0.7500\n",
            "Epoch 154/200\n",
            "14/14 [==============================] - 0s 4ms/step - loss: 0.4348 - accuracy: 0.7912 - val_loss: 0.5311 - val_accuracy: 0.7569\n",
            "Epoch 155/200\n",
            "14/14 [==============================] - 0s 4ms/step - loss: 0.4513 - accuracy: 0.7912 - val_loss: 0.5318 - val_accuracy: 0.7431\n",
            "Epoch 156/200\n",
            "14/14 [==============================] - 0s 4ms/step - loss: 0.4397 - accuracy: 0.8051 - val_loss: 0.5314 - val_accuracy: 0.7431\n",
            "Epoch 157/200\n",
            "14/14 [==============================] - 0s 3ms/step - loss: 0.4401 - accuracy: 0.7981 - val_loss: 0.5314 - val_accuracy: 0.7431\n",
            "Epoch 158/200\n",
            "14/14 [==============================] - 0s 3ms/step - loss: 0.4195 - accuracy: 0.8028 - val_loss: 0.5312 - val_accuracy: 0.7431\n",
            "Epoch 159/200\n",
            "14/14 [==============================] - 0s 4ms/step - loss: 0.4251 - accuracy: 0.8074 - val_loss: 0.5316 - val_accuracy: 0.7569\n",
            "Epoch 160/200\n",
            "14/14 [==============================] - 0s 4ms/step - loss: 0.4389 - accuracy: 0.7726 - val_loss: 0.5317 - val_accuracy: 0.7500\n",
            "Epoch 161/200\n",
            "14/14 [==============================] - 0s 3ms/step - loss: 0.4378 - accuracy: 0.7865 - val_loss: 0.5310 - val_accuracy: 0.7500\n",
            "Epoch 162/200\n",
            "14/14 [==============================] - 0s 3ms/step - loss: 0.4553 - accuracy: 0.7726 - val_loss: 0.5313 - val_accuracy: 0.7500\n",
            "Epoch 163/200\n",
            "14/14 [==============================] - 0s 3ms/step - loss: 0.4238 - accuracy: 0.7958 - val_loss: 0.5312 - val_accuracy: 0.7500\n",
            "Epoch 164/200\n",
            "14/14 [==============================] - 0s 4ms/step - loss: 0.4342 - accuracy: 0.7912 - val_loss: 0.5315 - val_accuracy: 0.7500\n",
            "Epoch 165/200\n",
            "14/14 [==============================] - 0s 4ms/step - loss: 0.4387 - accuracy: 0.8028 - val_loss: 0.5315 - val_accuracy: 0.7500\n",
            "Epoch 166/200\n",
            "14/14 [==============================] - 0s 4ms/step - loss: 0.4199 - accuracy: 0.8121 - val_loss: 0.5310 - val_accuracy: 0.7500\n",
            "Epoch 167/200\n",
            "14/14 [==============================] - 0s 4ms/step - loss: 0.4336 - accuracy: 0.7819 - val_loss: 0.5314 - val_accuracy: 0.7500\n",
            "Epoch 168/200\n",
            "14/14 [==============================] - 0s 3ms/step - loss: 0.4360 - accuracy: 0.8028 - val_loss: 0.5315 - val_accuracy: 0.7500\n",
            "Epoch 169/200\n",
            "14/14 [==============================] - 0s 3ms/step - loss: 0.4112 - accuracy: 0.8051 - val_loss: 0.5325 - val_accuracy: 0.7500\n",
            "Epoch 170/200\n",
            "14/14 [==============================] - 0s 4ms/step - loss: 0.4129 - accuracy: 0.8097 - val_loss: 0.5326 - val_accuracy: 0.7500\n",
            "Epoch 171/200\n",
            "14/14 [==============================] - 0s 3ms/step - loss: 0.4355 - accuracy: 0.8144 - val_loss: 0.5322 - val_accuracy: 0.7500\n",
            "Epoch 172/200\n",
            "14/14 [==============================] - 0s 3ms/step - loss: 0.4357 - accuracy: 0.7889 - val_loss: 0.5322 - val_accuracy: 0.7500\n",
            "Epoch 173/200\n",
            "14/14 [==============================] - 0s 4ms/step - loss: 0.4469 - accuracy: 0.7865 - val_loss: 0.5326 - val_accuracy: 0.7500\n",
            "Epoch 174/200\n",
            "14/14 [==============================] - 0s 4ms/step - loss: 0.4294 - accuracy: 0.7912 - val_loss: 0.5322 - val_accuracy: 0.7500\n",
            "Epoch 175/200\n",
            "14/14 [==============================] - 0s 4ms/step - loss: 0.4361 - accuracy: 0.7981 - val_loss: 0.5329 - val_accuracy: 0.7569\n",
            "Epoch 176/200\n",
            "14/14 [==============================] - 0s 4ms/step - loss: 0.4207 - accuracy: 0.8074 - val_loss: 0.5327 - val_accuracy: 0.7569\n",
            "Epoch 177/200\n",
            "14/14 [==============================] - 0s 3ms/step - loss: 0.4246 - accuracy: 0.7912 - val_loss: 0.5322 - val_accuracy: 0.7500\n",
            "Epoch 178/200\n",
            "14/14 [==============================] - 0s 3ms/step - loss: 0.4220 - accuracy: 0.8121 - val_loss: 0.5328 - val_accuracy: 0.7708\n",
            "Epoch 179/200\n",
            "14/14 [==============================] - 0s 4ms/step - loss: 0.4289 - accuracy: 0.7958 - val_loss: 0.5325 - val_accuracy: 0.7639\n",
            "Epoch 180/200\n",
            "14/14 [==============================] - 0s 4ms/step - loss: 0.4037 - accuracy: 0.8213 - val_loss: 0.5328 - val_accuracy: 0.7569\n",
            "Epoch 181/200\n",
            "14/14 [==============================] - 0s 4ms/step - loss: 0.3992 - accuracy: 0.8028 - val_loss: 0.5339 - val_accuracy: 0.7639\n",
            "Epoch 182/200\n",
            "14/14 [==============================] - 0s 3ms/step - loss: 0.4364 - accuracy: 0.7958 - val_loss: 0.5339 - val_accuracy: 0.7500\n",
            "Epoch 183/200\n",
            "14/14 [==============================] - 0s 4ms/step - loss: 0.4287 - accuracy: 0.7958 - val_loss: 0.5340 - val_accuracy: 0.7500\n",
            "Epoch 184/200\n",
            "14/14 [==============================] - 0s 5ms/step - loss: 0.4190 - accuracy: 0.8005 - val_loss: 0.5344 - val_accuracy: 0.7569\n",
            "Epoch 185/200\n",
            "14/14 [==============================] - 0s 4ms/step - loss: 0.4307 - accuracy: 0.7958 - val_loss: 0.5344 - val_accuracy: 0.7569\n",
            "Epoch 186/200\n",
            "14/14 [==============================] - 0s 3ms/step - loss: 0.4271 - accuracy: 0.7819 - val_loss: 0.5346 - val_accuracy: 0.7500\n",
            "Epoch 187/200\n",
            "14/14 [==============================] - 0s 3ms/step - loss: 0.4250 - accuracy: 0.8051 - val_loss: 0.5341 - val_accuracy: 0.7569\n",
            "Epoch 188/200\n",
            "14/14 [==============================] - 0s 4ms/step - loss: 0.4248 - accuracy: 0.8097 - val_loss: 0.5347 - val_accuracy: 0.7500\n",
            "Epoch 189/200\n",
            "14/14 [==============================] - 0s 4ms/step - loss: 0.4176 - accuracy: 0.8051 - val_loss: 0.5344 - val_accuracy: 0.7569\n",
            "Epoch 190/200\n",
            "14/14 [==============================] - 0s 4ms/step - loss: 0.4208 - accuracy: 0.8121 - val_loss: 0.5348 - val_accuracy: 0.7639\n",
            "Epoch 191/200\n",
            "14/14 [==============================] - 0s 4ms/step - loss: 0.4022 - accuracy: 0.8051 - val_loss: 0.5351 - val_accuracy: 0.7639\n",
            "Epoch 192/200\n",
            "14/14 [==============================] - 0s 4ms/step - loss: 0.4258 - accuracy: 0.8074 - val_loss: 0.5351 - val_accuracy: 0.7639\n",
            "Epoch 193/200\n",
            "14/14 [==============================] - 0s 4ms/step - loss: 0.4165 - accuracy: 0.8121 - val_loss: 0.5355 - val_accuracy: 0.7639\n",
            "Epoch 194/200\n",
            "14/14 [==============================] - 0s 4ms/step - loss: 0.4175 - accuracy: 0.8028 - val_loss: 0.5354 - val_accuracy: 0.7639\n",
            "Epoch 195/200\n",
            "14/14 [==============================] - 0s 3ms/step - loss: 0.4221 - accuracy: 0.8005 - val_loss: 0.5351 - val_accuracy: 0.7708\n",
            "Epoch 196/200\n",
            "14/14 [==============================] - 0s 4ms/step - loss: 0.4032 - accuracy: 0.8097 - val_loss: 0.5355 - val_accuracy: 0.7708\n",
            "Epoch 197/200\n",
            "14/14 [==============================] - 0s 4ms/step - loss: 0.4054 - accuracy: 0.8028 - val_loss: 0.5362 - val_accuracy: 0.7569\n",
            "Epoch 198/200\n",
            "14/14 [==============================] - 0s 4ms/step - loss: 0.4287 - accuracy: 0.8028 - val_loss: 0.5367 - val_accuracy: 0.7639\n",
            "Epoch 199/200\n",
            "14/14 [==============================] - 0s 4ms/step - loss: 0.4123 - accuracy: 0.8051 - val_loss: 0.5371 - val_accuracy: 0.7639\n",
            "Epoch 200/200\n",
            "14/14 [==============================] - 0s 4ms/step - loss: 0.4275 - accuracy: 0.8005 - val_loss: 0.5371 - val_accuracy: 0.7708\n"
          ],
          "name": "stdout"
        }
      ]
    },
    {
      "cell_type": "code",
      "metadata": {
        "id": "4TtmiwXCkASP",
        "outputId": "62dbe207-cc67-437b-f520-be0ed1d7ef0d",
        "colab": {
          "base_uri": "https://localhost:8080/",
          "height": 50
        }
      },
      "source": [
        "model_evaluate = model.evaluate(X_test, y_test)\n",
        "model_evaluate"
      ],
      "execution_count": null,
      "outputs": [
        {
          "output_type": "stream",
          "text": [
            "6/6 [==============================] - 0s 2ms/step - loss: 0.4812 - accuracy: 0.7917\n"
          ],
          "name": "stdout"
        },
        {
          "output_type": "execute_result",
          "data": {
            "text/plain": [
              "[0.4812074601650238, 0.7916666865348816]"
            ]
          },
          "metadata": {
            "tags": []
          },
          "execution_count": 51
        }
      ]
    },
    {
      "cell_type": "code",
      "metadata": {
        "id": "ATPX8ZoQkE_D",
        "outputId": "573efe52-9b53-4aac-ba16-9c53c92c62c5",
        "colab": {
          "base_uri": "https://localhost:8080/",
          "height": 320
        }
      },
      "source": [
        "%matplotlib inline\n",
        "import matplotlib as mpl\n",
        "import matplotlib.pyplot as plt\n",
        "pd.DataFrame(model_history.history).plot(figsize=(8, 5))\n",
        "plt.grid(True)\n",
        "plt.gca()\n",
        "\n",
        "plt.show()"
      ],
      "execution_count": null,
      "outputs": [
        {
          "output_type": "display_data",
          "data": {
            "image/png": "[encoded data removed]",
            "text/plain": [
              "<Figure size 576x360 with 1 Axes>"
            ]
          },
          "metadata": {
            "tags": [],
            "needs_background": "light"
          }
        }
      ]
    },
    {
      "cell_type": "code",
      "metadata": {
        "id": "pEr3Z4G39Wfo",
        "outputId": "a7c5d6e4-9e06-428b-e060-73de6e72653c",
        "colab": {
          "base_uri": "https://localhost:8080/",
          "height": 118
        }
      },
      "source": [
        "X_new=X_test[:3]\n",
        "X_new"
      ],
      "execution_count": null,
      "outputs": [
        {
          "output_type": "execute_result",
          "data": {
            "text/plain": [
              "array([[ 0.68586758, -0.75040318, -0.70054077,  0.76833721,  0.84463732,\n",
              "         0.26889178, -0.12842436,  0.80651122],\n",
              "       [-0.8238818 ,  1.13796916,  0.1006463 ,  0.02347497,  0.66799357,\n",
              "        -0.763995  , -1.04704943, -0.77578882],\n",
              "       [-0.52193192, -0.43034007, -0.35717488, -1.28003396, -0.68092235,\n",
              "        -0.1245889 , -0.94232019, -1.02562567]])"
            ]
          },
          "metadata": {
            "tags": []
          },
          "execution_count": 53
        }
      ]
    },
    {
      "cell_type": "code",
      "metadata": {
        "id": "ak1BhAKw9crp",
        "outputId": "bfffabe7-5031-4377-bf96-21bd60da39dd",
        "colab": {
          "base_uri": "https://localhost:8080/",
          "height": 67
        }
      },
      "source": [
        "y_pred = model.predict(X_new)\n",
        "print (y_pred)\n"
      ],
      "execution_count": null,
      "outputs": [
        {
          "output_type": "stream",
          "text": [
            "[[0.20053238]\n",
            " [0.18152066]\n",
            " [0.13688807]]\n"
          ],
          "name": "stdout"
        }
      ]
    },
    {
      "cell_type": "code",
      "metadata": {
        "id": "8uo_e58J9g2n",
        "outputId": "c869de83-d618-43f4-a716-aeafefe60eef",
        "colab": {
          "base_uri": "https://localhost:8080/",
          "height": 84
        }
      },
      "source": [
        "y_test[:3]"
      ],
      "execution_count": null,
      "outputs": [
        {
          "output_type": "execute_result",
          "data": {
            "text/plain": [
              "667    0\n",
              "324    0\n",
              "623    0\n",
              "Name: target, dtype: int64"
            ]
          },
          "metadata": {
            "tags": []
          },
          "execution_count": 55
        }
      ]
    }
  ]
}